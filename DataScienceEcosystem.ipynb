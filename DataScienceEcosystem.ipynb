{
 "cells": [
  {
   "cell_type": "markdown",
   "id": "6af830b6-b015-4629-ac4f-e2a164ae98ac",
   "metadata": {},
   "source": [
    "# Data Science Tools and Ecosystem"
   ]
  },
  {
   "cell_type": "markdown",
   "id": "70d5e22c-5c3a-481d-bc02-ff22ef6370dc",
   "metadata": {},
   "source": [
    "In this notebook, Data Science Tools and Ecosystem are summarized."
   ]
  },
  {
   "cell_type": "markdown",
   "id": "4accbe64-4895-44e3-aca7-4b8b7011954d",
   "metadata": {},
   "source": [
    "Some of the popular languages that Data Scientists use are:"
   ]
  },
  {
   "cell_type": "markdown",
   "id": "e7f1d836-dc8d-4cc3-a235-c2080d429403",
   "metadata": {},
   "source": [
    "1. Python\n",
    "2. R\n",
    "3. SQL"
   ]
  },
  {
   "cell_type": "markdown",
   "id": "eebfb847-211b-4cad-a59c-6fe1cf041519",
   "metadata": {},
   "source": [
    "Some of the commonly used libraries used by Data Scientists include:"
   ]
  },
  {
   "cell_type": "markdown",
   "id": "24b410af-7d06-4884-91e2-0d1ffed0aff6",
   "metadata": {},
   "source": [
    "1. Numpy\n",
    "2. Matplotlib\n",
    "3. Pandas\n",
    "4. Scipy\n",
    "5. Tensorflow\n",
    "6. Scikit-learn\n",
    "7. plotly\n",
    "8. Seaborn"
   ]
  },
  {
   "cell_type": "markdown",
   "id": "54b3f894-a03b-4408-983b-2fd1e0aadbd4",
   "metadata": {},
   "source": [
    "| Data Science Tools         |\r\n",
    "|----------------------------|\r\n",
    "| Jupyter Notebook           |\r\n",
    "| RStudio                    |\r\n",
    "| Apache Zeppelin            |\r\n"
   ]
  },
  {
   "cell_type": "markdown",
   "id": "ffdd47cf-aabc-4978-a096-e2f3f76e1ce2",
   "metadata": {},
   "source": [
    "### Below are a few examples of evaluating arithmetic expressions in Python."
   ]
  },
  {
   "cell_type": "markdown",
   "id": "a61963e0-ece9-4f34-8ffb-aaa0547b2277",
   "metadata": {},
   "source": [
    "1. Addition: `3 + 5 = 8`\n",
    "2. Subtraction: `10 - 4 = 6`\n",
    "3. Multiplication: `7 * 6 = 42`\n",
    "4. Division: `12 / 3 = 4.0`\n",
    "5. Exponentiation: `2 ** 3 = 8`"
   ]
  },
  {
   "cell_type": "code",
   "execution_count": 20,
   "id": "acd9665c-29f2-4059-b61f-7b4dcc464ed0",
   "metadata": {},
   "outputs": [
    {
     "data": {
      "text/plain": [
       "17"
      ]
     },
     "execution_count": 20,
     "metadata": {},
     "output_type": "execute_result"
    }
   ],
   "source": [
    "# This a simple arithmetic expression to mutiply then add integers\n",
    "(3*4)+5"
   ]
  },
  {
   "cell_type": "code",
   "execution_count": 22,
   "id": "8ad1a5a1-05d7-4f7e-a665-e38d4662a048",
   "metadata": {},
   "outputs": [
    {
     "data": {
      "text/plain": [
       "3.3333333333333335"
      ]
     },
     "execution_count": 22,
     "metadata": {},
     "output_type": "execute_result"
    }
   ],
   "source": [
    "# This will convert 200 minutes to hours by diving by 60\n",
    "minutes = 200\n",
    "hours = minutes / 60\n",
    "hours"
   ]
  },
  {
   "cell_type": "markdown",
   "id": "ab1d3912-77f4-4fb3-9d2f-21e44a9a1948",
   "metadata": {},
   "source": [
    "**Objectives:**\n",
    "- List popular languages for Data Science.\n",
    "-  Discuss the most commonly used libraries in Data Science.\n",
    "-  Explore arithmetic expressions and their evaluation in Python.\n",
    "-  Converting minutes to hours code\n"
   ]
  },
  {
   "cell_type": "markdown",
   "id": "785efe4f-ea7d-4287-9939-e36fa6d581dc",
   "metadata": {},
   "source": [
    "## Author\n",
    "\n",
    "karnam pranavi"
   ]
  },
  {
   "cell_type": "code",
   "execution_count": null,
   "id": "8580bd69-d57a-4119-9dc6-a2d97684f34a",
   "metadata": {},
   "outputs": [],
   "source": []
  }
 ],
 "metadata": {
  "kernelspec": {
   "display_name": "Python 3 (ipykernel)",
   "language": "python",
   "name": "python3"
  },
  "language_info": {
   "codemirror_mode": {
    "name": "ipython",
    "version": 3
   },
   "file_extension": ".py",
   "mimetype": "text/x-python",
   "name": "python",
   "nbconvert_exporter": "python",
   "pygments_lexer": "ipython3",
   "version": "3.12.4"
  }
 },
 "nbformat": 4,
 "nbformat_minor": 5
}
